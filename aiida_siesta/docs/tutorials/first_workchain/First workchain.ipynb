{
 "cells": [
  {
   "cell_type": "markdown",
   "metadata": {},
   "source": [
    "Your first workchain\n",
    "======\n",
    "\n",
    "We are sorry to give you this responability right from the beggining, but **the world needs your ability to develop workchains**.\n",
    "\n",
    "## Welcome to the project, here's the roadmap\n",
    "\n",
    "As you might know, *climate change is a thing*. Climate change will not only affect our oceans, cities and forests, but also our simulations. Just recently, the EU released their roadmap to keep atomic simulations correct through this hard times. These are the four stages that need to be achieved:\n",
    "\n",
    "<div id=\"stage1\" style=\"border: solid 2px green; background-color: rgba(0,255,0,0.2); padding: 10px 20px; margin: 30px 10px; border-radius: 7px\">\n",
    "    \n",
    "#### DEGRADATION OF THE KINETIC ENERGY\n",
    "    \n",
    "*Climate change will take its toll on the movement of electrons. This will result in a constant increase of the energy of any system, according to the laws of quantum mechanics. The offset is expected to follow Bosoni-Febrer's equation:* $offset(year) = year - 2020$.\n",
    "    \n",
    "*For this reason, it is of unprecedented importance that we are able to incorporate this offset into our calculations in order to predict future energies of structures.* \n",
    "    \n",
    "\n",
    "<div style=\"margin-top: 10px;border-top: solid 1px green\">\n",
    "</div>\n",
    "    \n",
    "**Stage goal**: A workflow that runs SIESTA and returns the energy of the structure in the year requested by the user.\n",
    "    \n",
    "<div style=\"text-align: right; color:green\"><b><i>Stage 1</i></b></div>\n",
    "    \n",
    "</div>\n",
    "\n",
    "<div id=\"stage2\" style=\"border: solid 2px green; background-color: rgba(0,255,0,0.2); padding: 10px 20px; margin: 30px 10px; border-radius: 7px\">\n",
    "    \n",
    "#### ADAPTING TO EXTINTION\n",
    "    \n",
    "*According to scientists, at the current pace Carbon atoms will be extinguished by 2040. In general, carbon structures will see their C atoms changed to Si, but in some special cases they will be substituted by other atoms.*\n",
    "\n",
    "<div style=\"margin-top: 10px;border-top: solid 1px green\">\n",
    "</div>\n",
    "    \n",
    "**Stage goal**: We need to incorporate the elimination of C atoms by 2040 in our calculations. By default, C atoms should be substituted by Si, but the user should be able to change that and provide a different atom. \n",
    "    \n",
    "<div style=\"text-align: right; color:green\"><b><i>Stage 2</i></b></div>\n",
    "    \n",
    "</div>\n",
    "\n",
    "<div id=\"stage3\" style=\"border: solid 2px orange; background-color: rgba(255,165,0,0.2); padding: 10px 20px; margin: 30px 10px; border-radius: 7px\">\n",
    "    \n",
    "#### A MIXING MESS\n",
    "    \n",
    "*After the water wars (forecasted by 2025), radioactivity will be all over the place. By then, the behavior of atomic nuclei will be unpredictable. This will of course translate in more uncertainty in the final position of electrons when atoms interact. Therefore, the optimal mixing coefficients during SCF cycles will suffer great oscillations. Scientists will need to be constantly looking for the optimal value to run their simulations.*\n",
    "\n",
    "<div style=\"margin-top: 10px;border-top: solid 1px orange\">\n",
    "</div>\n",
    "    \n",
    "**Stage goal**: A workflow that iterates the workchain designed at stage 2 over different `scfmixerweight` and returns the fastest one.\n",
    "    \n",
    "<div style=\"text-align: right; color:orange\"><b><i>Stage 3</i></b></div>\n",
    "    \n",
    "</div>\n",
    "\n",
    "<div id=\"stage4\" style=\"border: solid 2px red; background-color: rgba(255,0,0,0.2); padding: 10px 20px; margin: 30px 10px; border-radius: 7px\">\n",
    "    \n",
    "#### OPTIMIZING EXPERIMENT SPEED\n",
    "    \n",
    "*Climate change does not leave much margin for experimentation. We need to act fast. That's why we can not waste unnecessary time in simulations. All simulations need to be optimized to reach their result as soon as possible.*\n",
    "\n",
    "<div style=\"margin-top: 10px;border-top: solid 1px red\">\n",
    "</div>\n",
    "    \n",
    "**Stage goal**: A workflow that, given an unrelaxed structure uses the stage 3 deliverable to get the value of `scfmixerweight` that results in the fastest simulation and then runs a CG relaxation with that parameter to get the relaxed structure.\n",
    "    \n",
    "<div style=\"text-align: right; color:red\"><b><i>Stage 4</i></b></div>\n",
    "    \n",
    "</div>\n",
    "\n",
    "## Some context\n",
    "Here are the imports that you will probably need to develop your workchain:"
   ]
  },
  {
   "cell_type": "code",
   "execution_count": null,
   "metadata": {},
   "outputs": [],
   "source": [
    "import aiida\n",
    "from aiida.engine import WorkChain, ToContext, calcfunction\n",
    "from aiida.orm import Code, Str, Dict, Float, StructureData\n",
    "from aiida_siesta.workflows.base import SiestaBaseWorkChain\n",
    "from aiida_siesta.workflows.iterate import SiestaIterator\n",
    "\n",
    "import numpy as np"
   ]
  },
  {
   "cell_type": "markdown",
   "metadata": {},
   "source": [
    "The *European Scientific Association* (ESA) prepared a python module so that you can submit your deliverables:"
   ]
  },
  {
   "cell_type": "code",
   "execution_count": null,
   "metadata": {},
   "outputs": [],
   "source": [
    "import deliver\n",
    "from deliver import deliver_stage, stage_solution"
   ]
  },
  {
   "cell_type": "markdown",
   "metadata": {},
   "source": [
    "They will check whether the workchain you developed actually satisfies all the requirements. To submit the deliverable for stage 1, for example, do:\n",
    "\n",
    "```python\n",
    "deliver_stage(1, Stage1Deliverable)\n",
    "```\n",
    "\n",
    "<div class=\"alert alert-info\">\n",
    "\n",
    "PSSSST!\n",
    "    \n",
    "You can use `stage_solution(1)` to get the solution for stage 1, but **only if you are really hopeless**. Otherwise use the hints provided by each stage.\n",
    "    \n",
    "</div>\n",
    "\n",
    "Now we need to load the profile in which our workchains will run:"
   ]
  },
  {
   "cell_type": "code",
   "execution_count": null,
   "metadata": {},
   "outputs": [],
   "source": [
    "aiida.load_profile(\"your profile here\")"
   ]
  },
  {
   "cell_type": "markdown",
   "metadata": {},
   "source": [
    "And inform the deliver package what are the general inputs that you want to use to run your deliverables (If you are following the full tutorial in `aiida-siesta`, the values provided should be fine)."
   ]
  },
  {
   "cell_type": "code",
   "execution_count": null,
   "metadata": {},
   "outputs": [],
   "source": [
    "deliver.GENERAL_INPUTS = {\n",
    "    \"code\": Code.get_from_string('siesta-v4.1@localhost'),\n",
    "    \"pseudo_family\": Str(\"nc-sr-04_pbe_standard-psf\"),\n",
    "    \"options\": Dict(\n",
    "        dict={\n",
    "            'withmpi': False,\n",
    "            'max_wallclock_seconds': 3600 * 2\n",
    "        }\n",
    "    ),\n",
    "    \"parameters\": Dict(),\n",
    "}"
   ]
  },
  {
   "cell_type": "markdown",
   "metadata": {},
   "source": [
    "**We're all set.** Good luck with developing!\n",
    "\n",
    "Just kidding, the ESA gathered some of their best scientists to produce a template that you can use as the starting point for your deliverables:"
   ]
  },
  {
   "cell_type": "code",
   "execution_count": null,
   "metadata": {},
   "outputs": [],
   "source": [
    "class ClimateAdaptedCalculation(WorkChain):\n",
    "    \n",
    "    @classmethod\n",
    "    def define(cls, spec):\n",
    "        super().define(spec)\n",
    "\n",
    "        # Define the outline of the workflow, i.e. the order in which methods are executed.\n",
    "        spec.outline(\n",
    "            cls.initialize,\n",
    "            cls.run_calc,\n",
    "            cls.process_calc\n",
    "        )\n",
    "\n",
    "        # We expose the inputs of the SiestaBaseWorkChain so that they can be passed to our workchain\n",
    "        spec.expose_inputs(SiestaBaseWorkChain, exclude=[\"metadata\"])\n",
    "        # Also, we expose its outputs so that they can be easily accessed from this workchain\n",
    "        spec.expose_outputs(SiestaBaseWorkChain)\n",
    "        \n",
    "        # In case we need to define more inputs, we call spec.input\n",
    "        spec.input(\"my_input\")\n",
    "        \n",
    "        # Similarly, if we want to define outputs, we do it like this\n",
    "        spec.output(\"my_output\")\n",
    "    \n",
    "    def initialize(self):\n",
    "        \"\"\"\n",
    "        Here we will do some initialization/preprocessing if we need it.\n",
    "        \"\"\"\n",
    "        \n",
    "    def process_inputs(self, inputs):\n",
    "        \"\"\"\n",
    "        This is a chance to process the inputs that will go into the calculation.\n",
    "        \n",
    "        It's called before submitting the calculation (see run_calc).\n",
    "        \"\"\"\n",
    "        return inputs\n",
    "    \n",
    "    def run_calc(self):\n",
    "        \"\"\"\n",
    "        Where we actually run the calculation\n",
    "        \"\"\"\n",
    "        # Get the inputs that we exposed for SiestaBaseWorkChain\n",
    "        inputs = self.exposed_inputs(SiestaBaseWorkChain)\n",
    "        \n",
    "        # Process the inputs if we need to\n",
    "        inputs = self.process_inputs(inputs)\n",
    "        \n",
    "        # Submit the calculation\n",
    "        process_node = self.submit(SiestaBaseWorkChain, **self.ctx.siesta_inputs)\n",
    "\n",
    "        # Wait for the process to finish before going to the next step\n",
    "        # This will store the process into self.ctx\n",
    "        return ToContext(calc=process_node)\n",
    "    \n",
    "    def process_calc(self):\n",
    "        \"\"\"\n",
    "        Here we will process the outputs of the calculation\n",
    "        \"\"\"\n",
    "        # Retrieve the process that we put to context at the end of run_calc\n",
    "        process_node = self.ctx.calc\n",
    "        \n",
    "        # We return all the outputs from SiestaBaseWorkChain\n",
    "        self.out_many(self.exposed_outputs(self.ctx.calc, SiestaBaseWorkChain))\n",
    "        \n",
    "        # Process the outputs to generate a new node (see process_output docs)\n",
    "        my_output_value = process_output(process_node.outputs.output_parameters, )\n",
    "        \n",
    "        # When we are ready to output some value, we just need to call self.out \n",
    "        self.out(\"my_output\", my_output_value)\n",
    "\n",
    "@calcfunction\n",
    "def process_output(output_parameters):\n",
    "    \"\"\"\n",
    "    Processes the output and generates a new node.\n",
    "    \n",
    "    In aiida, when you generate a node (i.e. something that you want to use as\n",
    "    an input or output), you have to do it inside a calcfunction.\n",
    "    \"\"\"\n",
    "    return "
   ]
  },
  {
   "cell_type": "markdown",
   "metadata": {},
   "source": [
    "## Your time to shine\n",
    "\n",
    "Now, let's get to work. Here you have all the cells prepared to receive your code!"
   ]
  },
  {
   "cell_type": "markdown",
   "metadata": {},
   "source": [
    "**Stage 1** ([Go to description](#stage1))"
   ]
  },
  {
   "cell_type": "code",
   "execution_count": null,
   "metadata": {},
   "outputs": [],
   "source": []
  },
  {
   "cell_type": "code",
   "execution_count": null,
   "metadata": {},
   "outputs": [],
   "source": [
    "deliver_stage(1, Stage1Deliverable)"
   ]
  },
  {
   "cell_type": "markdown",
   "metadata": {},
   "source": [
    "**Stage 2** ([Go to description](#stage1))"
   ]
  },
  {
   "cell_type": "code",
   "execution_count": null,
   "metadata": {},
   "outputs": [],
   "source": []
  },
  {
   "cell_type": "code",
   "execution_count": null,
   "metadata": {},
   "outputs": [],
   "source": [
    "deliver_stage(2, Stage2Deliverable)"
   ]
  },
  {
   "cell_type": "markdown",
   "metadata": {},
   "source": [
    "**Stage 3** ([Go to description](#stage3))"
   ]
  },
  {
   "cell_type": "code",
   "execution_count": null,
   "metadata": {},
   "outputs": [],
   "source": []
  },
  {
   "cell_type": "code",
   "execution_count": null,
   "metadata": {},
   "outputs": [],
   "source": [
    "deliver_stage(3, Stage3Deliverable)"
   ]
  },
  {
   "cell_type": "markdown",
   "metadata": {},
   "source": [
    "**Stage 4** ([Go to description](#stage4))"
   ]
  },
  {
   "cell_type": "code",
   "execution_count": null,
   "metadata": {},
   "outputs": [],
   "source": []
  },
  {
   "cell_type": "code",
   "execution_count": null,
   "metadata": {},
   "outputs": [],
   "source": [
    "deliver_stage(4, Stage4Deliverable)"
   ]
  }
 ],
 "metadata": {
  "kernelspec": {
   "display_name": "tutorial",
   "language": "python",
   "name": "tutorial"
  },
  "language_info": {
   "codemirror_mode": {
    "name": "ipython",
    "version": 3
   },
   "file_extension": ".py",
   "mimetype": "text/x-python",
   "name": "python",
   "nbconvert_exporter": "python",
   "pygments_lexer": "ipython3",
   "version": "3.6.9"
  }
 },
 "nbformat": 4,
 "nbformat_minor": 4
}
